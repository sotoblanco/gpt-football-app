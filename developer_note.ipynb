{
 "cells": [
  {
   "cell_type": "code",
   "execution_count": 1,
   "metadata": {},
   "outputs": [],
   "source": [
    "# get the enviroment ready with the API key \n",
    "import os\n",
    "import openai\n",
    "from langchain.chat_models import ChatOpenAI\n",
    "from langchain.prompts import ChatPromptTemplate\n",
    "\n",
    "from dotenv import load_dotenv, find_dotenv\n",
    "_ = load_dotenv(find_dotenv()) # read local .env file\n",
    "openai.api_key = os.environ['OPENAI_API_KEY']"
   ]
  },
  {
   "cell_type": "code",
   "execution_count": 10,
   "metadata": {},
   "outputs": [],
   "source": [
    "import pandas as pd\n",
    "\n",
    "df = pd.read_csv('processed_stats_season_p1.csv')"
   ]
  },
  {
   "cell_type": "code",
   "execution_count": 16,
   "metadata": {},
   "outputs": [
    {
     "name": "stdout",
     "output_type": "stream",
     "text": [
      "['matches' 'goals' 'assists' 'shots' 'headShots' 'yellowCards' 'redCards'\n",
      " 'directRedCards' 'penalties' 'linkupPlays' 'cleanSheets' 'duels'\n",
      " 'duelsWon' 'defensiveDuels' 'defensiveDuelsWon' 'offensiveDuels'\n",
      " 'offensiveDuelsWon' 'aerialDuels' 'aerialDuelsWon' 'fouls' 'offsides'\n",
      " 'passes' 'successfulPasses' 'smartPasses' 'successfulSmartPasses'\n",
      " 'passesToFinalThird' 'successfulPassesToFinalThird' 'crosses'\n",
      " 'successfulCrosses' 'forwardPasses' 'successfulForwardPasses'\n",
      " 'backPasses' 'successfulBackPasses' 'throughPasses'\n",
      " 'successfulThroughPasses' 'keyPasses' 'successfulKeyPasses'\n",
      " 'verticalPasses' 'successfulVerticalPasses' 'longPasses'\n",
      " 'successfulLongPasses' 'dribbles' 'successfulDribbles' 'interceptions'\n",
      " 'defensiveActions' 'successfulDefensiveActions' 'attackingActions'\n",
      " 'successfulAttackingActions' 'freeKicks' 'freeKicksOnTarget'\n",
      " 'directFreeKicks' 'directFreeKicksOnTarget' 'corners'\n",
      " 'successfulPenalties' 'successfulLinkupPlays' 'accelerations'\n",
      " 'pressingDuels' 'pressingDuelsWon' 'looseBallDuels' 'looseBallDuelsWon'\n",
      " 'missedBalls' 'shotAssists' 'shotOnTargetAssists' 'recoveries'\n",
      " 'opponentHalfRecoveries' 'dangerousOpponentHalfRecoveries' 'losses'\n",
      " 'ownHalfLosses' 'dangerousOwnHalfLosses' 'fieldAerialDuels'\n",
      " 'fieldAerialDuelsWon' 'gkExits' 'gkSuccessfulExits' 'gkAerialDuels'\n",
      " 'gkAerialDuelsWon' 'gkSaves' 'xgShot' 'xgShotAgainst' 'ppda'\n",
      " 'receivedPass' 'touchInBox' 'progressiveRun' 'concededGoals'\n",
      " 'opponentOffsides' 'shotsAgainst' 'gkGoalKicks' 'gkGoalKicksSuccess'\n",
      " 'shortGoalKicks' 'longGoalKicks' 'matchesTagged' 'newDuelsWon'\n",
      " 'newDefensiveDuelsWon' 'newOffensiveDuelsWon' 'newSuccessfulDribbles'\n",
      " 'lateralPasses' 'successfulLateralPasses' 'team_id' 'season_id'\n",
      " 'competition_id' 'officialName' 'name' 'league_name' 'transfermarkt_id']\n"
     ]
    }
   ],
   "source": [
    "print(df.columns.values)"
   ]
  },
  {
   "cell_type": "code",
   "execution_count": 7,
   "metadata": {},
   "outputs": [],
   "source": [
    "def get_completion(prompt, model=\"gpt-4-1106-preview\"):\n",
    "    messages = [{\"role\": \"user\", \"content\": prompt}]\n",
    "    response = openai.ChatCompletion.create(\n",
    "        model=model,\n",
    "        messages=messages,\n",
    "        temperature=0, \n",
    "    )\n",
    "    return response.choices[0].message[\"content\"]\n",
    "\n",
    "# To control the randomness and creativity of the generated\n",
    "# text by an LLM, use temperature = 0.0 (lower values mean less random answers)\n",
    "chat = ChatOpenAI(temperature=0.25)"
   ]
  },
  {
   "cell_type": "code",
   "execution_count": 8,
   "metadata": {},
   "outputs": [
    {
     "data": {
      "text/plain": [
       "PromptTemplate(input_variables=['text'], template='For the following text, extract the most important informationas soccer expert in developing insights for the team to improve performance,and address the strengths and weaknesses of the team in the upcoming match, think in terms of probabilityand develop insights about the type of game each team usually play, provide probabilitiesand think in possible ways in which each team could play the game to beat the other.\\n\\nData of the upcoming game: {text}\\n')"
      ]
     },
     "execution_count": 8,
     "metadata": {},
     "output_type": "execute_result"
    }
   ],
   "source": [
    "pre_match_template = \"\"\"\\\n",
    "For the following text, extract the most important information\\\n",
    "as soccer expert in developing insights for the team to improve performance,\\\n",
    "and address the strengths and weaknesses of the team in the upcoming match, think in terms of probability\\\n",
    "and develop insights about the type of game each team usually play, provide probabilities\\\n",
    "and think in possible ways in which each team could play the game to beat the other.\n",
    "\n",
    "Data of the upcoming game: {text}\n",
    "\"\"\" \n",
    "\n",
    "prompt_template = ChatPromptTemplate.from_template(pre_match_template)\n",
    "prompt_template.messages[0].prompt"
   ]
  },
  {
   "cell_type": "code",
   "execution_count": 9,
   "metadata": {},
   "outputs": [
    {
     "name": "stdout",
     "output_type": "stream",
     "text": [
      "The upcoming game is between Juventus and Sampdoria. Juventus has a higher team strength index (SPI) of 13.45 compared to Sampdoria's SPI of 10.0. This indicates that Juventus is considered a stronger team overall.\n",
      "\n",
      "In terms of offensive performance, both teams have similar average goals scored per game, with Juventus and Sampdoria both averaging 1.95 goals. Additionally, their expected goals per shot (xGshot) are also similar at 1.82. This suggests that both teams have a similar attacking style and are capable of scoring goals.\n",
      "\n",
      "Defensively, both teams have the same average goals conceded per game at 0.94. This indicates that both teams have a solid defensive structure and are capable of preventing goals.\n",
      "\n",
      "Looking at the market value of the teams, Juventus has a significantly higher value of 494,500,000.0 compared to Sampdoria's value of 37,950,000.0. This suggests that Juventus has a more valuable and potentially stronger squad.\n",
      "\n",
      "Considering the strengths and weaknesses of the teams, Juventus has a higher SPI and market value, indicating that they are the stronger team on paper. However, Sampdoria has shown similar offensive and defensive capabilities, suggesting that they can pose a challenge to Juventus.\n",
      "\n",
      "In terms of probabilities, based on the data provided, it is likely that Juventus has a higher probability of winning the game. However, Sampdoria cannot be underestimated and has a chance to compete against Juventus.\n",
      "\n",
      "To beat each other, Juventus could rely on their stronger squad and offensive capabilities to overpower Sampdoria's defense. They could also exploit any weaknesses in Sampdoria's defensive structure to create scoring opportunities.\n",
      "\n",
      "On the other hand, Sampdoria could focus on their defensive solidity and try to limit Juventus' scoring chances. They could also capitalize on any defensive mistakes made by Juventus and use counter-attacks to score goals.\n",
      "\n",
      "Overall, the game is expected to be competitive, with Juventus having a higher probability of winning. However, Sampdoria has the potential to surprise and compete against Juventus based on their similar offensive and defensive capabilities.\n"
     ]
    }
   ],
   "source": [
    "teams_data_demo = {'home_team': 'Juventus',\n",
    " 'away_team': 'Sampdoria',\n",
    " 'home_team_spi': 13.45,\n",
    " 'away_team_spi': 10.0,\n",
    " 'avg_goals_home': 1.95,\n",
    " 'xgshot_home': 1.82,\n",
    " 'offensive_rating_home': 1.885,\n",
    " 'avg_conceded_goal_home': 0.94,\n",
    " 'defensive_rating_home': 0.94,\n",
    "\n",
    " 'avg_goals_away': 1.95,\n",
    " 'xgshot_away': 1.82,\n",
    " 'offensive_rating_away': 1.885,\n",
    " 'avg_conceded_goal_away': 0.94,\n",
    " 'defensive_rating_away': 0.94,\n",
    "\n",
    " 'home_value_market': 494500000.0,\n",
    " 'away_value_market': 37950000.0}\n",
    "\n",
    "customer_messages = prompt_template.format_messages(\n",
    "                    text=teams_data_demo)\n",
    "\n",
    "response = chat(customer_messages)\n",
    "response.content\n",
    "\n",
    "# export the output to a txt file\n",
    "filename = \"pre-match.txt\"\n",
    "with open(filename, 'w') as f:\n",
    "    f.write(response.content)\n",
    "\n",
    "print(response.content)"
   ]
  }
 ],
 "metadata": {
  "kernelspec": {
   "display_name": "gpt_futbol",
   "language": "python",
   "name": "python3"
  },
  "language_info": {
   "codemirror_mode": {
    "name": "ipython",
    "version": 3
   },
   "file_extension": ".py",
   "mimetype": "text/x-python",
   "name": "python",
   "nbconvert_exporter": "python",
   "pygments_lexer": "ipython3",
   "version": "3.10.13"
  }
 },
 "nbformat": 4,
 "nbformat_minor": 2
}
